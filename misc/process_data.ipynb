{
 "cells": [
  {
   "cell_type": "code",
   "execution_count": 2,
   "metadata": {},
   "outputs": [],
   "source": [
    "%load_ext autoreload\n",
    "%autoreload 2\n",
    "import project_utils\n",
    "import numpy as np"
   ]
  },
  {
   "cell_type": "code",
   "execution_count": 4,
   "metadata": {},
   "outputs": [
    {
     "name": "stdout",
     "output_type": "stream",
     "text": [
      "Saving complete.\n",
      "Saving complete.\n",
      "Saving complete.\n",
      "Saving complete.\n",
      "Saving complete.\n",
      "Saving complete.\n"
     ]
    }
   ],
   "source": [
    "#flip all images horizontally and save to data directory\n",
    "directory_list = ['/home/jovyan/work/data/original/first_positive/',\n",
    "                  '/home/jovyan/work/data/original/first_negative/',\n",
    "                  '/home/jovyan/work/data/original/second_positive/',\n",
    "                  '/home/jovyan/work/data/original/second_negative/', \n",
    "                  '/home/jovyan/work/data/original/third_positive/', \n",
    "                  '/home/jovyan/work/data/original/third_negative/',\n",
    "                  '/home/jovyan/work/data/original/fourth_positive/',\n",
    "                  '/home/jovyan/work/data/original/fourth_negative/']\n",
    "\n",
    "json_list = ['first_positive.json', \n",
    "             None, \n",
    "             'second_positive.json', \n",
    "             None, \n",
    "             'third_positive.json', \n",
    "             None, \n",
    "             'fourth_positive.json', \n",
    "             None]\n",
    "\n",
    "for directory, json in zip(directory_list, json_list):\n",
    "    images, confidence, annotations = project_utils.load_original_data(directory, json)\n",
    "    images, confidence, annotations = project_utils.get_flipped_images(images, confidence, annotations)\n",
    "    project_utils.save_augmented_images(images, confidence, annotations, directory + '/flipped/', json_file=json)"
   ]
  },
  {
   "cell_type": "code",
   "execution_count": 3,
   "metadata": {},
   "outputs": [
    {
     "name": "stdout",
     "output_type": "stream",
     "text": [
      "Saving complete.\n",
      "Saving complete.\n",
      "Saving complete.\n",
      "Saving complete.\n"
     ]
    }
   ],
   "source": [
    "#arranging test images in directory\n",
    "directory_list = ['/home/jovyan/work/data/original/test_images/hand_only/positive/', \n",
    "                  '/home/jovyan/work/data/original/test_images/hand_only/negative/', \n",
    "                  '/home/jovyan/work/data/original/test_images/hand_signs/positive/', \n",
    "                  '/home/jovyan/work/data/original/test_images/hand_signs/negative/']\n",
    "\n",
    "json_list = ['positive.json', None, 'positive.json', None]\n",
    "\n",
    "for directory, json in zip(directory_list, json_list):\n",
    "    images, confidence, annotations = project_utils.load_original_data(directory, json)\n",
    "    images, confidence, annotations = project_utils.get_flipped_images(images, confidence, annotations)\n",
    "    project_utils.save_augmented_images(images, confidence, annotations, directory + '/flipped/', json_file=json)"
   ]
  },
  {
   "cell_type": "code",
   "execution_count": 4,
   "metadata": {},
   "outputs": [
    {
     "name": "stdout",
     "output_type": "stream",
     "text": [
      "Saving complete.\n",
      "Saving complete.\n"
     ]
    }
   ],
   "source": [
    "#arranging test images in directory\n",
    "directory_list = ['/home/jovyan/work/data/original/validation_images/positive/', \n",
    "                  '/home/jovyan/work/data/original/validation_images/negative/']\n",
    "\n",
    "json_list = ['positive.json', None]\n",
    "\n",
    "for directory, json in zip(directory_list, json_list):\n",
    "    images, confidence, annotations = project_utils.load_original_data(directory, json)\n",
    "    images, confidence, annotations = project_utils.get_flipped_images(images, confidence, annotations)\n",
    "    project_utils.save_augmented_images(images, confidence, annotations, directory + '/flipped/', json_file=json)"
   ]
  }
 ],
 "metadata": {
  "kernelspec": {
   "display_name": "Python 3 (ipykernel)",
   "language": "python",
   "name": "python3"
  },
  "language_info": {
   "codemirror_mode": {
    "name": "ipython",
    "version": 3
   },
   "file_extension": ".py",
   "mimetype": "text/x-python",
   "name": "python",
   "nbconvert_exporter": "python",
   "pygments_lexer": "ipython3",
   "version": "3.8.8"
  },
  "toc-autonumbering": true
 },
 "nbformat": 4,
 "nbformat_minor": 4
}
